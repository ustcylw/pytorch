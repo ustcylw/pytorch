{
 "cells": [
  {
   "cell_type": "markdown",
   "id": "72d4d2cf",
   "metadata": {},
   "source": [
    "refs: \n",
    "    \n",
    "[神经网络模型、loss不收敛、不下降原因和解决办法](https://blog.csdn.net/ytusdc/article/details/107738749)"
   ]
  },
  {
   "cell_type": "code",
   "execution_count": null,
   "id": "a9377fbd",
   "metadata": {},
   "outputs": [],
   "source": []
  }
 ],
 "metadata": {
  "kernelspec": {
   "display_name": "“autodrive”",
   "language": "python",
   "name": "autodrive"
  },
  "language_info": {
   "codemirror_mode": {
    "name": "ipython",
    "version": 3
   },
   "file_extension": ".py",
   "mimetype": "text/x-python",
   "name": "python",
   "nbconvert_exporter": "python",
   "pygments_lexer": "ipython3",
   "version": "3.8.12"
  },
  "toc": {
   "base_numbering": 1,
   "nav_menu": {},
   "number_sections": true,
   "sideBar": true,
   "skip_h1_title": false,
   "title_cell": "Table of Contents",
   "title_sidebar": "Contents",
   "toc_cell": false,
   "toc_position": {},
   "toc_section_display": true,
   "toc_window_display": false
  }
 },
 "nbformat": 4,
 "nbformat_minor": 5
}
