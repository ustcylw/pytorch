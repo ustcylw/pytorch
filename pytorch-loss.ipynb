{
 "cells": [
  {
   "cell_type": "markdown",
   "id": "7338e643-3995-4651-b741-ae95329da469",
   "metadata": {},
   "source": [
    "# PyTorch Loss"
   ]
  },
  {
   "cell_type": "markdown",
   "id": "d9058a38-b72b-4c0d-a144-792a60d3d9c1",
   "metadata": {},
   "source": [
    "refs:\n",
    "\n",
    "[PyTorch中的损失函数--L1Loss /L2Loss/SmoothL1Loss](https://zhuanlan.zhihu.com/p/83131026)\n"
   ]
  },
  {
   "cell_type": "code",
   "execution_count": null,
   "id": "b9374717-fcd5-490e-bb3e-8f2942342019",
   "metadata": {},
   "outputs": [],
   "source": []
  }
 ],
 "metadata": {
  "kernelspec": {
   "display_name": "“autodrive”",
   "language": "python",
   "name": "autodrive"
  },
  "language_info": {
   "codemirror_mode": {
    "name": "ipython",
    "version": 3
   },
   "file_extension": ".py",
   "mimetype": "text/x-python",
   "name": "python",
   "nbconvert_exporter": "python",
   "pygments_lexer": "ipython3",
   "version": "3.8.12"
  }
 },
 "nbformat": 4,
 "nbformat_minor": 5
}
